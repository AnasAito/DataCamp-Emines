{
 "cells": [
  {
   "cell_type": "code",
   "execution_count": null,
   "metadata": {},
   "outputs": [],
   "source": [
    "# initial implementation\n",
    "def power_method(X, max_iterations):\n",
    "    # X shape\n",
    "    n, p = X.shape\n",
    "\n",
    "    # random init of v\n",
    "    v_k = np.random.rand(p, 1)\n",
    "\n",
    "    for i in range(max_iterations):\n",
    "        # update u\n",
    "        X_times_v = X @ v_k\n",
    "        u_k = X_times_v / np.linalg.norm(X_times_v)\n",
    "\n",
    "        # update v\n",
    "        XT_times_u = X.T @ u_k\n",
    "        v_k = XT_times_u / np.linalg.norm(XT_times_u)\n",
    "\n",
    "    return u_k, v_k"
   ]
  },
  {
   "cell_type": "code",
   "execution_count": null,
   "metadata": {},
   "outputs": [],
   "source": [
    "# algo modified\n",
    "def power_method(X, max_iterations):\n",
    "    # X shape\n",
    "    n, p = X.shape\n",
    "\n",
    "    # random init of v\n",
    "    arr_v = [np.random.rand(p, 1)]\n",
    "    arr_u = []\n",
    "\n",
    "    for i in range(max_iterations):\n",
    "        # update u\n",
    "        X_times_v = X @ arr_v[-1]\n",
    "        arr_u.append(X_times_v / np.linalg.norm(X_times_v))\n",
    "\n",
    "        # update v\n",
    "        XT_times_u = X.T @ arr_u[-1]\n",
    "        arr_v.append(XT_times_u / np.linalg.norm(XT_times_u))\n",
    "\n",
    "    return arr_u, arr_v"
   ]
  }
 ],
 "metadata": {
  "language_info": {
   "name": "python"
  },
  "orig_nbformat": 4
 },
 "nbformat": 4,
 "nbformat_minor": 2
}
