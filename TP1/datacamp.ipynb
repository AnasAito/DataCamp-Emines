{
  "cells": [
    {
      "cell_type": "code",
      "execution_count": null,
      "metadata": {
        "id": "ipiGaU3EY4bR",
        "outputId": "5c936169-87e1-47a8-b36d-d5e2deeff521"
      },
      "outputs": [
        {
          "name": "stdout",
          "output_type": "stream",
          "text": [
            "cfilorux\n",
            "vxz\n",
            "zxvt\n"
          ]
        }
      ],
      "source": [
        "# question 1 : \n",
        "import string\n",
        "alpha_list = string.ascii_lowercase\n",
        "\n",
        "str_ = 'cfilorux'\n",
        "str_list = [alpha_list[i] for i, char in enumerate(alpha_list) if (i+1)%3==0]\n",
        "str_ = ''.join(str_list)\n",
        "print(str_)\n",
        "\n",
        "str_ = 'vxz'\n",
        "alpha_list_end = alpha_list[alpha_list.index('v'):]\n",
        "str_list = [alpha_list_end[i] for i, char in enumerate(alpha_list_end) if (i)%2==0]\n",
        "str_ = ''.join(str_list)\n",
        "print(str_)\n",
        "\n",
        "str_ = 'zxvt'\n",
        "alpha_list_end = alpha_list[alpha_list.index('t'):][::-1]\n",
        "str_list = [alpha_list_end[i] for i, char in enumerate(alpha_list_end) if (i)%2==0]\n",
        "str_ = ''.join(str_list)\n",
        "print(str_)"
      ]
    },
    {
      "cell_type": "code",
      "execution_count": null,
      "metadata": {
        "id": "5YQa7zMjY4bU",
        "outputId": "81d381c2-f336-4bdb-fc2b-2c9298a629ef"
      },
      "outputs": [
        {
          "name": "stdout",
          "output_type": "stream",
          "text": [
            "lower case :  xhec datascience for business \n",
            "remove spaces : xhec datascience for business\n",
            "remove spaces : xhEc datasciEncE for businEss\n"
          ]
        }
      ],
      "source": [
        "# question 2 : \n",
        "str_ = \" XHEC DataScience for Business \"\n",
        "str_ = str_.lower()\n",
        "print('lower case :' ,str_ )\n",
        "str_ = str_.strip()\n",
        "print('remove spaces :' , str_)\n",
        "str_ = str_.replace('e','E')\n",
        "print('remove spaces :' , str_)"
      ]
    },
    {
      "cell_type": "code",
      "execution_count": null,
      "metadata": {
        "id": "uuAt6AjNY4bV",
        "outputId": "097bfbf8-12cd-4b47-99da-cbccb6bd17a6"
      },
      "outputs": [
        {
          "name": "stdout",
          "output_type": "stream",
          "text": [
            "compare using == :  False\n",
            "compare using np.isclose :  True\n"
          ]
        }
      ],
      "source": [
        "# question 5\n",
        "nbr = 0.1 + 100 - 100\n",
        "print('compare using == : ' , nbr==0.1)\n",
        "# 0.1 is not an int so python only store an approximation of it and give us a round value of it thus when doing computation with it we get a false result due to rounding errors \n",
        "print('compare using np.isclose : ', np.isclose([nbr], [0.1], rtol=1e-5)[0])\n"
      ]
    },
    {
      "cell_type": "code",
      "execution_count": null,
      "metadata": {
        "id": "iT0WI_85Y4bV",
        "outputId": "85217835-1df1-489b-81b2-ebf5f1b242a2"
      },
      "outputs": [
        {
          "data": {
            "text/plain": [
              "[1, 4, 9, 16, 25, 36, 49, 64, 81, 100, 121]"
            ]
          },
          "execution_count": 49,
          "metadata": {},
          "output_type": "execute_result"
        }
      ],
      "source": [
        "# question 6 : \n",
        "# create a list of all square numbers between 1 and 121\n",
        "import numpy as np \n",
        "def is_square(nbr):\n",
        "    return np.isclose([np.sqrt(nbr)], [int(np.sqrt(nbr))], rtol=1e-5)[0]\n",
        "\n",
        "sq_list = [i for i in range(1,122) if is_square(i) ]\n",
        "sq_list"
      ]
    },
    {
      "cell_type": "code",
      "execution_count": null,
      "metadata": {
        "id": "mvZ4S949Y4bW"
      },
      "outputs": [],
      "source": [
        "# question 7 : \n",
        "# create array containing integers from 2 to 14 by step of 3\n",
        "import numpy as np\n",
        "list_ = np.arange(2,15,3)\n",
        "print(list_)\n",
        "# Create an array with 15 equispaced valued from 0 to 1 included \n",
        "list_ = np.linspace(0,1,15)\n",
        "print(list_)"
      ]
    },
    {
      "cell_type": "code",
      "execution_count": null,
      "metadata": {
        "id": "R8UCbX33Y4bW"
      },
      "outputs": [],
      "source": [
        "# question 8\n",
        "import numpy as np\n",
        "def serie_term(k):\n",
        "    sqr_k = k**2\n",
        "    return 4 * sqr_k /( 4 * sqr_k -1)\n",
        "\n"
      ]
    },
    {
      "cell_type": "code",
      "execution_count": null,
      "metadata": {
        "id": "XgSdxWkPY4bX",
        "outputId": "b69ec19e-4383-45a4-ace1-e0532029dbd3"
      },
      "outputs": [
        {
          "name": "stdout",
          "output_type": "stream",
          "text": [
            "780 ms ± 50.6 ms per loop (mean ± std. dev. of 7 runs, 1 loop each)\n"
          ]
        }
      ],
      "source": [
        "%%timeit\n",
        "# using loop \n",
        "\n",
        "prod_loop = 2 \n",
        "for k in range(1,1000000):\n",
        "    prod_loop = prod_loop * serie_term(k)\n"
      ]
    },
    {
      "cell_type": "code",
      "execution_count": null,
      "metadata": {
        "id": "gWPd9PgmY4bX",
        "outputId": "d994d28f-64bb-4d55-ccc8-9ee4a47faef1"
      },
      "outputs": [
        {
          "name": "stdout",
          "output_type": "stream",
          "text": [
            "21.3 ms ± 3.97 ms per loop (mean ± std. dev. of 7 runs, 10 loops each)\n"
          ]
        }
      ],
      "source": [
        "%%timeit\n",
        "# compute a product serie using numpy \n",
        "import numpy as np\n",
        "\n",
        "x = np.arange(1,1000000)\n",
        "prod_numpy = 2*np.prod(serie_term(x))\n",
        "\n"
      ]
    },
    {
      "cell_type": "code",
      "execution_count": null,
      "metadata": {
        "id": "lM0bfVgHY4bY"
      },
      "outputs": [],
      "source": [
        "# numpy is way more faster since it use vectorization and is faster to compute the product serie"
      ]
    },
    {
      "cell_type": "code",
      "execution_count": null,
      "metadata": {
        "id": "SbHF-gmUY4bZ",
        "outputId": "9f0b0e39-c232-47b9-f7af-5efb2791374f"
      },
      "outputs": [
        {
          "name": "stdout",
          "output_type": "stream",
          "text": [
            "10.0\n",
            "(5,)\n",
            "[0 1 2 3 4]\n"
          ]
        }
      ],
      "source": [
        "# question 9 : \n",
        "# Compute the dot product of np.arange(5) and np.ones(5)\n",
        "a = np.arange(5)\n",
        "b = np.ones(5)\n",
        "print(a.dot(b))\n",
        "print(a.shape)\n",
        "# a have 5 rows with  1 column \n",
        "print(a.transpose())\n",
        "# transpose of a 1D array is still a 1D array "
      ]
    },
    {
      "cell_type": "code",
      "execution_count": null,
      "metadata": {
        "id": "YmdqzfInY4bb",
        "outputId": "8a44c766-d321-45ab-fe43-344d6d27852d"
      },
      "outputs": [
        {
          "name": "stdout",
          "output_type": "stream",
          "text": [
            "[ 1  2  3  4  5  6  7  8  9 10 11 12 13 14 15 16 17 18 19]\n",
            "a-mean(a) :  [-9. -8. -7. -6. -5. -4. -3. -2. -1.  0.  1.  2.  3.  4.  5.  6.  7.  8.\n",
            "  9.]\n",
            "----\n",
            "a of shape 3,4\n",
            "[[ 0  1  2  3]\n",
            " [ 4  5  6  7]\n",
            " [ 8  9 10 11]]\n",
            "transform\n",
            "[[ 0  1  2  3]\n",
            " [ 5  6  7  8]\n",
            " [10 11 12 13]]\n"
          ]
        }
      ],
      "source": [
        "# question 15\n",
        "# Create an array with integers 1, 3, ..., 19\n",
        "a = np.arange(1,20)\n",
        "print(a)\n",
        "# Subtract its mean to it \n",
        "a = a - np.mean(a)\n",
        "print('a-mean(a) : ', a)\n",
        "print('----')\n",
        "# Create an array with 3 lines and 4 columns, such that arr[i, j] = 4 * i + j\n",
        "a = np.arange(3*4).reshape(3,4)\n",
        "print('a of shape 3,4')\n",
        "print(a)\n",
        "\n",
        "# transform each element (i,j) of a to 4*i + j\n",
        "def transform (x):\n",
        "    i,j =  np.where(a == x)\n",
        "    i,j = i[0],j[0]\n",
        "    return 5 * i  + j\n",
        "myfunc_vec = np.vectorize(transform)\n",
        "\n",
        "result = myfunc_vec(a)\n",
        "print('transform')\n",
        "print(result)\n",
        "\n"
      ]
    },
    {
      "cell_type": "code",
      "execution_count": null,
      "metadata": {
        "id": "en9ncG7TY4bb",
        "outputId": "0a9e76a6-767c-4678-aa38-ab767e226df9"
      },
      "outputs": [
        {
          "name": "stdout",
          "output_type": "stream",
          "text": [
            "[[-5. -5. -5. -5.]\n",
            " [ 0.  0.  0.  0.]\n",
            " [ 5.  5.  5.  5.]]\n"
          ]
        }
      ],
      "source": [
        "# question 16\n",
        "# subtract its column wise mean to it \n",
        "result = result - np.mean(result, axis=0)\n",
        "print(result)"
      ]
    },
    {
      "cell_type": "code",
      "execution_count": null,
      "metadata": {
        "id": "t6OgQnaIY4bc"
      },
      "outputs": [],
      "source": [
        "# Subtract its row wise mean to it\n",
        "result = result - np.mean(result, axis=1)[:,None]"
      ]
    },
    {
      "cell_type": "code",
      "execution_count": null,
      "metadata": {
        "id": "Gng-S0F1Y4bd",
        "outputId": "719ceb5a-0912-4902-d475-22eb1e654ff7"
      },
      "outputs": [
        {
          "name": "stdout",
          "output_type": "stream",
          "text": [
            "[[0 1 2 3 4]\n",
            " [0 1 2 3 4]\n",
            " [0 1 2 3 4]]\n",
            "[[0 0 0 0 0]\n",
            " [1 1 1 1 1]\n",
            " [2 2 2 2 2]]\n",
            "result\n",
            "[[0 0 0 0 0]\n",
            " [0 1 2 3 4]\n",
            " [0 2 4 6 8]]\n"
          ]
        }
      ],
      "source": [
        "# question 17 \n",
        "\n",
        "x = np.array([np.arange(5)])\n",
        "a = np.repeat(x, [3], axis=0)\n",
        "print(a)\n",
        "x = np.array([np.arange(3)])\n",
        "b = np.repeat(x, [5], axis=0).T\n",
        "print(b)\n",
        "print('result')\n",
        "print(a*b)"
      ]
    },
    {
      "cell_type": "code",
      "execution_count": null,
      "metadata": {
        "id": "QmSN76n2Y4bd"
      },
      "outputs": [],
      "source": []
    }
  ],
  "metadata": {
    "colab": {
      "collapsed_sections": [],
      "name": "datacamp.ipynb",
      "provenance": []
    },
    "interpreter": {
      "hash": "949777d72b0d2535278d3dc13498b2535136f6dfe0678499012e853ee9abcab1"
    },
    "kernelspec": {
      "display_name": "Python 3.7.6 64-bit",
      "language": "python",
      "name": "python3"
    },
    "language_info": {
      "codemirror_mode": {
        "name": "ipython",
        "version": 3
      },
      "file_extension": ".py",
      "mimetype": "text/x-python",
      "name": "python",
      "nbconvert_exporter": "python",
      "pygments_lexer": "ipython3",
      "version": "3.7.6"
    },
    "orig_nbformat": 4
  },
  "nbformat": 4,
  "nbformat_minor": 0
}
